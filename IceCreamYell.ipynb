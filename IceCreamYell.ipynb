{
 "cells": [
  {
   "cell_type": "code",
   "execution_count": 37,
   "id": "164160c6-0b2e-4d90-8a04-78bf7be20ef9",
   "metadata": {},
   "outputs": [
    {
     "ename": "ModuleNotFoundError",
     "evalue": "No module named 'scipy'",
     "output_type": "error",
     "traceback": [
      "\u001b[0;31m---------------------------------------------------------------------------\u001b[0m",
      "\u001b[0;31mModuleNotFoundError\u001b[0m                       Traceback (most recent call last)",
      "Cell \u001b[0;32mIn[37], line 2\u001b[0m\n\u001b[1;32m      1\u001b[0m \u001b[38;5;28;01mimport\u001b[39;00m \u001b[38;5;21;01mpandas\u001b[39;00m \u001b[38;5;28;01mas\u001b[39;00m \u001b[38;5;21;01mpd\u001b[39;00m\n\u001b[0;32m----> 2\u001b[0m \u001b[38;5;28;01mfrom\u001b[39;00m \u001b[38;5;21;01mscipy\u001b[39;00m\u001b[38;5;21;01m.\u001b[39;00m\u001b[38;5;21;01mstats\u001b[39;00m \u001b[38;5;28;01mimport\u001b[39;00m ttest_ind\n\u001b[1;32m      3\u001b[0m ic \u001b[38;5;241m=\u001b[39m pd\u001b[38;5;241m.\u001b[39mread_csv(\u001b[38;5;124m'\u001b[39m\u001b[38;5;124mice_cream.csv\u001b[39m\u001b[38;5;124m'\u001b[39m)\n",
      "\u001b[0;31mModuleNotFoundError\u001b[0m: No module named 'scipy'"
     ]
    }
   ],
   "source": [
    "import pandas as pd\n",
    "ic = pd.read_csv('ice_cream.csv')"
   ]
  },
  {
   "cell_type": "code",
   "execution_count": 21,
   "id": "cd428f40-364f-4022-beff-816d84cfb5d4",
   "metadata": {},
   "outputs": [
    {
     "name": "stdout",
     "output_type": "stream",
     "text": [
      "    id  female  ice_cream  video  puzzle\n",
      "0   70       0          2     47      57\n",
      "1  121       1          1     63      61\n",
      "2   86       0          3     58      31\n",
      "3  141       0          3     53      56\n",
      "4  172       0          1     53      61\n",
      "5  113       0          1     63      61\n",
      "6   50       0          1     53      61\n",
      "7   11       0          1     39      36\n",
      "8   84       0          1     58      51\n",
      "9   48       0          1     50      51\n"
     ]
    }
   ],
   "source": [
    "print(ic.head(10))"
   ]
  },
  {
   "cell_type": "code",
   "execution_count": 22,
   "id": "9d268590-d25d-4149-9db1-b1cea49df0cb",
   "metadata": {},
   "outputs": [],
   "source": [
    "ic.columns = ['id', 'gender', 'ice_cream_flavor', 'video_game_score', 'puzzle_game_score']\n",
    "ic['gender'] = ic['gender'].replace({0: 'male', 1: 'female'})\n",
    "ic['ice_cream_flavor'] = ic['ice_cream_flavor'].replace({1: 'Vanilla', 2: 'Chocolate', 3: 'Strawberry'})"
   ]
  },
  {
   "cell_type": "code",
   "execution_count": 23,
   "id": "716eafdb-f7c7-4df3-8136-75ff860a7c92",
   "metadata": {},
   "outputs": [
    {
     "name": "stdout",
     "output_type": "stream",
     "text": [
      "    id  gender ice_cream_flavor  video_game_score  puzzle_game_score\n",
      "0   70    male        Chocolate                47                 57\n",
      "1  121  female          Vanilla                63                 61\n",
      "2   86    male       Strawberry                58                 31\n",
      "3  141    male       Strawberry                53                 56\n",
      "4  172    male          Vanilla                53                 61\n",
      "5  113    male          Vanilla                63                 61\n",
      "6   50    male          Vanilla                53                 61\n",
      "7   11    male          Vanilla                39                 36\n",
      "8   84    male          Vanilla                58                 51\n",
      "9   48    male          Vanilla                50                 51\n"
     ]
    }
   ],
   "source": [
    "print(ic.head(10))"
   ]
  },
  {
   "cell_type": "code",
   "execution_count": 24,
   "id": "29ec50d4-f43d-425f-9e6b-dab0ae0ca729",
   "metadata": {},
   "outputs": [
    {
     "name": "stdout",
     "output_type": "stream",
     "text": [
      "gender\n",
      "female    109\n",
      "male       91\n",
      "Name: count, dtype: int64\n"
     ]
    }
   ],
   "source": [
    "print(ic['gender'].value_counts()) "
   ]
  },
  {
   "cell_type": "code",
   "execution_count": 25,
   "id": "d8c169dc-3404-40e6-b469-18e1c7a36bf5",
   "metadata": {},
   "outputs": [
    {
     "name": "stdout",
     "output_type": "stream",
     "text": [
      "ice_cream_flavor\n",
      "Vanilla       95\n",
      "Strawberry    58\n",
      "Chocolate     47\n",
      "Name: count, dtype: int64\n"
     ]
    }
   ],
   "source": [
    "print(ic['ice_cream_flavor'].value_counts())"
   ]
  },
  {
   "cell_type": "code",
   "execution_count": 26,
   "id": "f49062f4-8f29-4c78-b33b-a978e2a69dc8",
   "metadata": {},
   "outputs": [
    {
     "name": "stdout",
     "output_type": "stream",
     "text": [
      "   gender ice_cream_flavor  count\n",
      "0  female          Vanilla     48\n",
      "1  female        Chocolate     32\n",
      "2  female       Strawberry     29\n",
      "3    male          Vanilla     47\n",
      "4    male       Strawberry     29\n",
      "5    male        Chocolate     15\n"
     ]
    }
   ],
   "source": [
    "fav_per_gender = ic.groupby('gender').ice_cream_flavor.value_counts().reset_index()\n",
    "print(fav_per_gender)"
   ]
  },
  {
   "cell_type": "code",
   "execution_count": 27,
   "id": "3b2d2b04-9ace-4555-b756-1233c457d818",
   "metadata": {},
   "outputs": [
    {
     "name": "stdout",
     "output_type": "stream",
     "text": [
      "   gender  video_game_score\n",
      "0  female         50.697248\n",
      "1    male         53.230769\n"
     ]
    }
   ],
   "source": [
    "avg_gender_video = ic.groupby('gender').video_game_score.mean().reset_index()\n",
    "print(avg_gender_video)"
   ]
  },
  {
   "cell_type": "code",
   "execution_count": 28,
   "id": "6dd6d48d-16f8-4263-abc4-1066de0ed013",
   "metadata": {},
   "outputs": [
    {
     "name": "stdout",
     "output_type": "stream",
     "text": [
      "   gender  puzzle_game_score\n",
      "0  female          52.917431\n",
      "1    male          51.791209\n"
     ]
    }
   ],
   "source": [
    "avg_gender_puzzle = ic.groupby('gender').puzzle_game_score.mean().reset_index()\n",
    "print(avg_gender_puzzle)"
   ]
  },
  {
   "cell_type": "code",
   "execution_count": 29,
   "id": "c9ef697a-5c7e-4de1-84db-829269bebbe5",
   "metadata": {},
   "outputs": [
    {
     "name": "stdout",
     "output_type": "stream",
     "text": [
      "  ice_cream_flavor  video_game_score\n",
      "0        Chocolate         47.702128\n",
      "1       Strawberry         55.448276\n",
      "2          Vanilla         51.705263\n"
     ]
    }
   ],
   "source": [
    "avg_flavor_video = ic.groupby('ice_cream_flavor').video_game_score.mean().reset_index()\n",
    "print(avg_flavor_video)"
   ]
  },
  {
   "cell_type": "code",
   "execution_count": 30,
   "id": "16f00971-e696-4c2d-bf43-4a2d38d64d42",
   "metadata": {},
   "outputs": [
    {
     "name": "stdout",
     "output_type": "stream",
     "text": [
      "  ice_cream_flavor  puzzle_game_score\n",
      "0        Chocolate          47.319149\n",
      "1       Strawberry          57.137931\n",
      "2          Vanilla          52.031579\n"
     ]
    }
   ],
   "source": [
    "avg_flavor_puzzle = ic.groupby('ice_cream_flavor').puzzle_game_score.mean().reset_index()\n",
    "print(avg_flavor_puzzle)"
   ]
  },
  {
   "cell_type": "code",
   "execution_count": null,
   "id": "e7b4fcdc-6b02-4a94-aa42-c90f43e38547",
   "metadata": {},
   "outputs": [],
   "source": []
  },
  {
   "cell_type": "code",
   "execution_count": null,
   "id": "2567892c-a104-4148-b62b-e4bfaf7f49d1",
   "metadata": {},
   "outputs": [],
   "source": []
  },
  {
   "cell_type": "code",
   "execution_count": null,
   "id": "5b37bb06-07d7-4ded-859e-50883e1cedcf",
   "metadata": {},
   "outputs": [],
   "source": []
  },
  {
   "cell_type": "code",
   "execution_count": null,
   "id": "4936e658-b4e0-4699-8799-0801a9191f5d",
   "metadata": {},
   "outputs": [],
   "source": []
  }
 ],
 "metadata": {
  "kernelspec": {
   "display_name": "Python 3 (ipykernel)",
   "language": "python",
   "name": "python3"
  },
  "language_info": {
   "codemirror_mode": {
    "name": "ipython",
    "version": 3
   },
   "file_extension": ".py",
   "mimetype": "text/x-python",
   "name": "python",
   "nbconvert_exporter": "python",
   "pygments_lexer": "ipython3",
   "version": "3.11.6"
  }
 },
 "nbformat": 4,
 "nbformat_minor": 5
}
